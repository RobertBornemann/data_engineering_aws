{
 "cells": [
  {
   "cell_type": "code",
   "execution_count": 12,
   "id": "b5e1c440-1443-4800-b7c0-067a42255357",
   "metadata": {},
   "outputs": [],
   "source": [
    "import psycopg2"
   ]
  },
  {
   "cell_type": "code",
   "execution_count": 13,
   "id": "1a214ca9-745a-4209-bac1-800df3a9b67b",
   "metadata": {},
   "outputs": [],
   "source": [
    "try:\n",
    "    conn = psycopg2.connect(\"host=127.0.0.1 dbname=studentdb password=studentdb\") \n",
    "except psycopg2.Error as e:\n",
    "    print('Connection Error')\n",
    "    print(e)\n",
    "\n",
    "try:\n",
    "    cur = conn.cursor()\n",
    "except psycopg2.Error as e:\n",
    "    print('Cursor Error')\n",
    "    print(e)\n",
    "conn.set_session(autocommit=True)   "
   ]
  },
  {
   "cell_type": "code",
   "execution_count": 22,
   "id": "fee642e0-d3e9-440e-9792-525f249fe349",
   "metadata": {},
   "outputs": [],
   "source": [
    "try:\n",
    "    cur.execute(\"CREATE TABLE IF NOT EXISTS music_library (album_id int, \\\n",
    "                                                            album_name varchar, \\\n",
    "                                                            artist_name varchar, \\\n",
    "                                                            year int, \\\n",
    "                                                            songs text[]);\")\n",
    "except psycopg2.Error as e:\n",
    "    print('Create Table Error')\n",
    "    print(e)\n",
    "\n",
    "try:\n",
    "    cur.execute(\"INSERT INTO music_library (album_id, album_name, artist_name, year, songs) \\\n",
    "                VALUES (%s, %s, %s, %s, %s)\", \\\n",
    "                (1, \"Rubber Soul\", \"The Beatles\", 1965, [\"Michaelle\", \"Think For Yourself\", \"In my Life\"]))\n",
    "except psycopg2.Error as e:\n",
    "    print('Insert Row Error')\n",
    "    print(e)"
   ]
  },
  {
   "cell_type": "code",
   "execution_count": 23,
   "id": "1832f2da-c4c1-444c-9d5e-d1faa736edc2",
   "metadata": {},
   "outputs": [
    {
     "name": "stdout",
     "output_type": "stream",
     "text": [
      "(1, 'Rubber Soul', 'The Beatles', 1965, ['Michaelle', 'Think For Yourself', 'In my Life'])\n"
     ]
    }
   ],
   "source": [
    "try: \n",
    "    cur.execute(\"SELECT * FROM music_library;\")\n",
    "except psycopg2.Error as e: \n",
    "    print(\"Error: select *\")\n",
    "    print (e)\n",
    "\n",
    "row = cur.fetchone()\n",
    "while row:\n",
    "   print(row)\n",
    "   row = cur.fetchone()"
   ]
  },
  {
   "cell_type": "code",
   "execution_count": null,
   "id": "033e37a0-5ed2-4791-a3c1-a1355884fc77",
   "metadata": {},
   "outputs": [],
   "source": []
  }
 ],
 "metadata": {
  "kernelspec": {
   "display_name": "Python 3 (ipykernel)",
   "language": "python",
   "name": "python3"
  },
  "language_info": {
   "codemirror_mode": {
    "name": "ipython",
    "version": 3
   },
   "file_extension": ".py",
   "mimetype": "text/x-python",
   "name": "python",
   "nbconvert_exporter": "python",
   "pygments_lexer": "ipython3",
   "version": "3.11.5"
  }
 },
 "nbformat": 4,
 "nbformat_minor": 5
}
