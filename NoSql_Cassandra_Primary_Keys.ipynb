{
 "cells": [
  {
   "cell_type": "code",
   "execution_count": 1,
   "id": "c271257b-eea4-4f77-938f-a55e0449705d",
   "metadata": {},
   "outputs": [],
   "source": [
    "import cassandra"
   ]
  },
  {
   "cell_type": "code",
   "execution_count": 2,
   "id": "0b0d39ff-fb1d-4ae5-ae42-e322f2d6e22b",
   "metadata": {},
   "outputs": [
    {
     "name": "stdout",
     "output_type": "stream",
     "text": [
      "Connection Established\n"
     ]
    }
   ],
   "source": [
    "from cassandra.cluster import Cluster\n",
    "try:\n",
    "    cluster = Cluster(['127.0.0.1'])\n",
    "    session = cluster.connect()\n",
    "    print(\"Connection Established\")\n",
    "except Exception as e:\n",
    "    print(\"Connection Failed\")\n",
    "    "
   ]
  },
  {
   "cell_type": "code",
   "execution_count": 3,
   "id": "17d1ffeb-9c39-4542-9f67-06ea41498344",
   "metadata": {},
   "outputs": [],
   "source": [
    "try:\n",
    "    session.execute(\"CREATE KEYSPACE IF NOT EXISTS music_libary WITH REPLICATION = { 'class' : 'SimpleStrategy', 'replication_factor' : '1' }\")\n",
    "except Exception as e:\n",
    "    print(e)"
   ]
  },
  {
   "cell_type": "code",
   "execution_count": 4,
   "id": "3bf2338d-7375-4b37-bd7c-eb9cb32e3167",
   "metadata": {},
   "outputs": [],
   "source": [
    "try:\n",
    "    session.set_keyspace('music_libary')\n",
    "except Exception as e:\n",
    "    print(e)"
   ]
  },
  {
   "cell_type": "code",
   "execution_count": 5,
   "id": "d8a673f3-d531-4e65-aead-a7d7db4401c5",
   "metadata": {},
   "outputs": [],
   "source": [
    "query = \"CREATE TABLE IF NOT EXISTS music_libary\"\n",
    "query = query + \"(year int, artist_name text, album_name text, city text, PRIMARY KEY (year))\"\n",
    "\n",
    "try: \n",
    "    session.execute(query)\n",
    "except Exception as e: \n",
    "    print(\"Error: Issue creating table\")\n",
    "    print (e)"
   ]
  },
  {
   "cell_type": "code",
   "execution_count": 6,
   "id": "0d77507f-795b-40dd-9fc0-9f49a550a8b8",
   "metadata": {},
   "outputs": [],
   "source": [
    "insert_music_libary = \"INSERT INTO music_libary (year, artist_name, album_name, city)\"\n",
    "insert_music_libary = insert_music_libary + \"VALUES (%s, %s, %s, %s)\"\n",
    "\n",
    "try: \n",
    "    session.execute(insert_music_libary, (1970, \"The Beatles\", \"Let it Be\", \"Liverpool\"))\n",
    "except Exception as e: \n",
    "    print(\"Error: Issue creating table\")\n",
    "    print (e)\n",
    "\n",
    "try: \n",
    "    session.execute(insert_music_libary, (1965, \"The Beatles\", \"Rubber Soul\", \"Oxford\"))\n",
    "except Exception as e: \n",
    "    print(\"Error: Issue creating table\")\n",
    "    print (e)\n",
    "\n",
    "try: \n",
    "    session.execute(insert_music_libary, (1965, \"The Who\", \"My Generation\", \"London\"))\n",
    "except Exception as e: \n",
    "    print(\"Error: Issue creating table\")\n",
    "    print (e)\n",
    "\n",
    "try: \n",
    "    session.execute(insert_music_libary, (1966, \"The Monkees\", \"The Monkees\", \"LA\"))\n",
    "except Exception as e: \n",
    "    print(\"Error: Issue creating table\")\n",
    "    print (e)\n",
    "\n",
    "try: \n",
    "    session.execute(insert_music_libary, (1970, \"The Carpenters\", \"Close to You\", \"San Diego\"))\n",
    "except Exception as e: \n",
    "    print(\"Error: Issue creating table\")\n",
    "    print (e)"
   ]
  },
  {
   "cell_type": "code",
   "execution_count": 7,
   "id": "c2cb9414-dc75-478c-beea-ca2fb096e721",
   "metadata": {},
   "outputs": [
    {
     "name": "stdout",
     "output_type": "stream",
     "text": [
      "1965 The Who My Generation\n"
     ]
    }
   ],
   "source": [
    "query = \"SELECT * FROM music_libary WHERE YEAR=1965\"\n",
    "\n",
    "try: \n",
    "    rows = session.execute(query)\n",
    "except Exception as e: \n",
    "    print(\"Error: Issue creating table\")\n",
    "    print (e)\n",
    "\n",
    "for row in rows:\n",
    "    print(row.year, row.artist_name, row.album_name)"
   ]
  },
  {
   "cell_type": "code",
   "execution_count": 8,
   "id": "b9d4481e-2e0a-4e30-a4be-91f4c6235711",
   "metadata": {},
   "outputs": [],
   "source": [
    "query = \"CREATE TABLE IF NOT EXISTS music_libary1\"\n",
    "query = query + \"(year int, artist_name text, album_name text, city text, PRIMARY KEY (year, album_name))\"\n",
    "\n",
    "try: \n",
    "    session.execute(query)\n",
    "except Exception as e: \n",
    "    print(\"Error: Issue creating table\")\n",
    "    print (e)"
   ]
  },
  {
   "cell_type": "code",
   "execution_count": 9,
   "id": "99cf3f27-30a4-4c31-806f-bc6fd4b19eb2",
   "metadata": {},
   "outputs": [],
   "source": [
    "insert_music_libary = \"INSERT INTO music_libary1 (year, artist_name, album_name, city)\"\n",
    "insert_music_libary = insert_music_libary + \"VALUES (%s, %s, %s, %s)\"\n",
    "\n",
    "try: \n",
    "    session.execute(insert_music_libary, (1970, \"The Beatles\", \"Let it Be\", \"Liverpool\"))\n",
    "except Exception as e: \n",
    "    print(\"Error: Issue creating table\")\n",
    "    print (e)\n",
    "\n",
    "try: \n",
    "    session.execute(insert_music_libary, (1965, \"The Beatles\", \"Rubber Soul\", \"Oxford\"))\n",
    "except Exception as e: \n",
    "    print(\"Error: Issue creating table\")\n",
    "    print (e)\n",
    "\n",
    "try: \n",
    "    session.execute(insert_music_libary, (1965, \"The Who\", \"My Generation\", \"London\"))\n",
    "except Exception as e: \n",
    "    print(\"Error: Issue creating table\")\n",
    "    print (e)\n",
    "\n",
    "try: \n",
    "    session.execute(insert_music_libary, (1966, \"The Monkees\", \"The Monkees\", \"LA\"))\n",
    "except Exception as e: \n",
    "    print(\"Error: Issue creating table\")\n",
    "    print (e)\n",
    "\n",
    "try: \n",
    "    session.execute(insert_music_libary, (1970, \"The Carpenters\", \"Close to You\", \"San Diego\"))\n",
    "except Exception as e: \n",
    "    print(\"Error: Issue creating table\")\n",
    "    print (e)"
   ]
  },
  {
   "cell_type": "code",
   "execution_count": 10,
   "id": "25b240c0-b412-45b8-bca3-499af2abd86a",
   "metadata": {},
   "outputs": [
    {
     "name": "stdout",
     "output_type": "stream",
     "text": [
      "1965 The Who My Generation\n",
      "1965 The Beatles Rubber Soul\n"
     ]
    }
   ],
   "source": [
    "query = \"SELECT * FROM music_libary1 WHERE YEAR=1965\"\n",
    "\n",
    "try: \n",
    "    rows = session.execute(query)\n",
    "except Exception as e: \n",
    "    print(\"Error: Issue creating table\")\n",
    "    print (e)\n",
    "\n",
    "for row in rows:\n",
    "    print(row.year, row.artist_name, row.album_name)"
   ]
  },
  {
   "cell_type": "code",
   "execution_count": 11,
   "id": "d2b4d2ac-040b-45ca-95a3-c3db0355574d",
   "metadata": {},
   "outputs": [],
   "source": [
    "drop_table = \"DROP TABLE music_libary\"\n",
    "\n",
    "try: \n",
    "    session.execute(drop_table)\n",
    "except Exception as e: \n",
    "    print(\"Error: Dropping creating table\")\n",
    "    print (e)\n",
    "\n",
    "drop_table = \"DROP TABLE music_libary1\"\n",
    "\n",
    "try: \n",
    "    session.execute(drop_table)\n",
    "except Exception as e: \n",
    "    print(\"Error: Dropping creating table\")\n",
    "    print (e)"
   ]
  },
  {
   "cell_type": "code",
   "execution_count": 12,
   "id": "d12887fd-1947-4c63-b744-edd51cbd6264",
   "metadata": {},
   "outputs": [],
   "source": [
    "session.shutdown()\n",
    "cluster.shutdown()"
   ]
  },
  {
   "cell_type": "code",
   "execution_count": null,
   "id": "6a41adbd-c5c9-415e-b70e-e80d89d52b8e",
   "metadata": {},
   "outputs": [],
   "source": []
  }
 ],
 "metadata": {
  "kernelspec": {
   "display_name": "Python 3 (ipykernel)",
   "language": "python",
   "name": "python3"
  },
  "language_info": {
   "codemirror_mode": {
    "name": "ipython",
    "version": 3
   },
   "file_extension": ".py",
   "mimetype": "text/x-python",
   "name": "python",
   "nbconvert_exporter": "python",
   "pygments_lexer": "ipython3",
   "version": "3.11.5"
  }
 },
 "nbformat": 4,
 "nbformat_minor": 5
}
