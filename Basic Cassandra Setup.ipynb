{
 "cells": [
  {
   "cell_type": "code",
   "execution_count": 8,
   "id": "dfe0870f-1e34-4c38-a8df-81797cb06c36",
   "metadata": {},
   "outputs": [],
   "source": [
    "import cassandra"
   ]
  },
  {
   "cell_type": "markdown",
   "id": "3ef67006-0146-4c8b-8158-731ebd0e9c2a",
   "metadata": {},
   "source": [
    "```docker network create cassandra```\n",
    "\n",
    "```docker run --rm -d --name cassandra --hostname cassandra --network cassandra cassandra```"
   ]
  },
  {
   "cell_type": "code",
   "execution_count": 25,
   "id": "7b2657bc-eb2f-4c2b-a759-0d9920a3be60",
   "metadata": {},
   "outputs": [
    {
     "name": "stdout",
     "output_type": "stream",
     "text": [
      "Connection Established\n"
     ]
    }
   ],
   "source": [
    "from cassandra.cluster import Cluster\n",
    "try:\n",
    "    cluster = Cluster(['127.0.0.1'])\n",
    "    session = cluster.connect()\n",
    "    print(\"Connection Established\")\n",
    "except Exception as e:\n",
    "    print(\"Connection Failed\")\n",
    "    "
   ]
  },
  {
   "cell_type": "code",
   "execution_count": 30,
   "id": "af7e440f-d0b4-4cbb-a024-4d8fe6a77d19",
   "metadata": {},
   "outputs": [],
   "source": [
    "try:\n",
    "    session.execute(\"CREATE KEYSPACE IF NOT EXISTS store WITH REPLICATION = { 'class' : 'SimpleStrategy', 'replication_factor' : '1' }\")\n",
    "except Exception as e:\n",
    "    print(e)"
   ]
  },
  {
   "cell_type": "code",
   "execution_count": 32,
   "id": "15e3f6a1-9630-44b7-9d1d-86a083bef6d1",
   "metadata": {},
   "outputs": [],
   "source": [
    "try:\n",
    "    session.set_keyspace('store')\n",
    "except Exception as e:\n",
    "    print(e)"
   ]
  },
  {
   "cell_type": "code",
   "execution_count": 52,
   "id": "d7d3ba33-d004-45bb-9abe-e87ac24ed4c9",
   "metadata": {},
   "outputs": [],
   "source": [
    "query = \"CREATE TABLE IF NOT EXISTS music_libary\"\n",
    "query = query + \"(year int, artist_name text, album_name text, PRIMARY KEY (year, artist_name))\"\n",
    "\n",
    "try: \n",
    "    session.execute(query)\n",
    "except Exception as e: \n",
    "    print(\"Error: Issue creating table\")\n",
    "    print (e)\n",
    "\n",
    "query = \"CREATE TABLE IF NOT EXISTS album_libary\"\n",
    "query = query + \"(year int, artist_name text, album_name text, PRIMARY KEY (artist_name, year))\"\n",
    "\n",
    "try: \n",
    "    session.execute(query)\n",
    "except Exception as e: \n",
    "    print(\"Error: Issue creating table\")\n",
    "    print (e)"
   ]
  },
  {
   "cell_type": "code",
   "execution_count": 54,
   "id": "9a4a7057-f302-42b7-8ce2-b930c4df64a1",
   "metadata": {},
   "outputs": [],
   "source": [
    "insert_music_libary = \"INSERT INTO music_libary (year, artist_name, album_name)\"\n",
    "insert_music_libary = insert_music_libary + \"VALUES (%s, %s, %s)\"\n",
    "\n",
    "insert_album_libary = \"INSERT INTO album_libary (artist_name, year, album_name)\"\n",
    "insert_album_libary = insert_album_libary + \"VALUES (%s, %s, %s)\"\n",
    "\n",
    "try: \n",
    "    session.execute(insert_music_libary, (1970, \"The Beatles\", \"Let it Be\"))\n",
    "except Exception as e: \n",
    "    print(\"Error: Issue creating table\")\n",
    "    print (e)\n",
    "\n",
    "try: \n",
    "    session.execute(insert_music_libary, (1965, \"The Beatles\", \"Rubber Soul\"))\n",
    "except Exception as e: \n",
    "    print(\"Error: Issue creating table\")\n",
    "    print (e)\n",
    "\n",
    "try: \n",
    "    session.execute(insert_music_libary, (1965, \"The Who\", \"My Generation\"))\n",
    "except Exception as e: \n",
    "    print(\"Error: Issue creating table\")\n",
    "    print (e)\n",
    "\n",
    "try: \n",
    "    session.execute(insert_music_libary, (1966, \"The Monkees\", \"The Monkees\"))\n",
    "except Exception as e: \n",
    "    print(\"Error: Issue creating table\")\n",
    "    print (e)\n",
    "\n",
    "try: \n",
    "    session.execute(insert_music_libary, (1970, \"The Carpenters\", \"Close to You\"))\n",
    "except Exception as e: \n",
    "    print(\"Error: Issue creating table\")\n",
    "    print (e)\n",
    "\n",
    "try: \n",
    "    session.execute(insert_album_libary, (\"The Beatles\", 1970, \"Let it Be\"))\n",
    "except Exception as e: \n",
    "    print(\"Error: Issue creating table\")\n",
    "    print (e)\n",
    "\n",
    "try: \n",
    "    session.execute(insert_album_libary, (\"The Beatles\", 1965, \"Rubber Soul\"))\n",
    "except Exception as e: \n",
    "    print(\"Error: Issue creating table\")\n",
    "    print (e)\n",
    "\n",
    "try: \n",
    "    session.execute(insert_album_libary, (\"The Who\", 1965, \"My Generation\"))\n",
    "except Exception as e: \n",
    "    print(\"Error: Issue creating table\")\n",
    "    print (e)\n",
    "\n",
    "try: \n",
    "    session.execute(insert_album_libary, (\"The Monkees\", 1966, \"The Monkees\"))\n",
    "except Exception as e: \n",
    "    print(\"Error: Issue creating table\")\n",
    "    print (e)\n",
    "\n",
    "try: \n",
    "    session.execute(insert_album_libary, (\"The Carpenters\", 1970, \"Close to You\"))\n",
    "except Exception as e: \n",
    "    print(\"Error: Issue creating table\")\n",
    "    print (e)"
   ]
  },
  {
   "cell_type": "code",
   "execution_count": 55,
   "id": "d89e9f23-3815-46dd-ab3f-29452a812b51",
   "metadata": {},
   "outputs": [
    {
     "name": "stdout",
     "output_type": "stream",
     "text": [
      "1970 The Beatles Let it Be\n",
      "1970 The Carpenters Close to You\n"
     ]
    }
   ],
   "source": [
    "query = \"SELECT * FROM music_libary WHERE YEAR=1970\"\n",
    "\n",
    "try: \n",
    "    rows = session.execute(query)\n",
    "except Exception as e: \n",
    "    print(\"Error: Issue creating table\")\n",
    "    print (e)\n",
    "\n",
    "for row in rows:\n",
    "    print(row.year, row.artist_name, row.album_name)"
   ]
  },
  {
   "cell_type": "code",
   "execution_count": 56,
   "id": "7e5ec503-bb7a-48b4-83c0-4b60413d5ebe",
   "metadata": {},
   "outputs": [
    {
     "name": "stdout",
     "output_type": "stream",
     "text": [
      "1965 The Beatles Rubber Soul\n",
      "1970 The Beatles Let it Be\n"
     ]
    }
   ],
   "source": [
    "query = \"SELECT * FROM album_libary WHERE artist_name='The Beatles'\"\n",
    "\n",
    "try: \n",
    "    rows = session.execute(query)\n",
    "except Exception as e: \n",
    "    print(\"Error: Issue creating table\")\n",
    "    print (e)\n",
    "\n",
    "for row in rows:\n",
    "    print(row.year, row.artist_name, row.album_name)"
   ]
  },
  {
   "cell_type": "code",
   "execution_count": 57,
   "id": "6baa0362-4463-4d84-95c1-7df39871adb3",
   "metadata": {},
   "outputs": [],
   "source": [
    "drop_table = \"DROP TABLE music_libary\"\n",
    "\n",
    "try: \n",
    "    session.execute(drop_table)\n",
    "except Exception as e: \n",
    "    print(\"Error: Dropping creating table\")\n",
    "    print (e)\n",
    "\n",
    "drop_table = \"DROP TABLE album_libary\"\n",
    "\n",
    "try: \n",
    "    session.execute(drop_table)\n",
    "except Exception as e: \n",
    "    print(\"Error: Dropping creating table\")\n",
    "    print (e)"
   ]
  },
  {
   "cell_type": "code",
   "execution_count": 58,
   "id": "52a98112-58bc-4bed-943c-ae59bdd06fea",
   "metadata": {},
   "outputs": [],
   "source": [
    "session.shutdown()\n",
    "cluster.shutdown()"
   ]
  },
  {
   "cell_type": "code",
   "execution_count": null,
   "id": "df89f4d2-edda-419c-be7d-eb41bc369ceb",
   "metadata": {},
   "outputs": [],
   "source": []
  }
 ],
 "metadata": {
  "kernelspec": {
   "display_name": "Python 3 (ipykernel)",
   "language": "python",
   "name": "python3"
  },
  "language_info": {
   "codemirror_mode": {
    "name": "ipython",
    "version": 3
   },
   "file_extension": ".py",
   "mimetype": "text/x-python",
   "name": "python",
   "nbconvert_exporter": "python",
   "pygments_lexer": "ipython3",
   "version": "3.11.5"
  }
 },
 "nbformat": 4,
 "nbformat_minor": 5
}
